{
 "cells": [
  {
   "cell_type": "code",
   "execution_count": 1,
   "metadata": {
    "collapsed": true
   },
   "outputs": [],
   "source": [
    "#面向对象了\n",
    "#类名后面的括号中的object为 从哪一个类继承下来的  如果暂时不知道从哪个类继承 就写object\n",
    "class student(object):\n",
    "    #成员函数的第一个参数 永远是self 表示创建实例的本身（类似this）\n",
    "    #__init__内部 把各种属性绑定到self\n",
    "    #必须传入与__init__匹配的参数 self不需要传\n",
    "    \n",
    "    #普通函数的参数类别  同样适合成员函数\n",
    "    def __init__(self , name , score):\n",
    "        self.name = name\n",
    "        self.score = score\n",
    "    \n",
    "    #成员函数的第一个参数 永远是self\n",
    "    def print_info(self):\n",
    "        print('%s %s' % (self.name , self.score))"
   ]
  },
  {
   "cell_type": "code",
   "execution_count": 2,
   "metadata": {},
   "outputs": [
    {
     "name": "stdout",
     "output_type": "stream",
     "text": [
      "feifei 52\n"
     ]
    }
   ],
   "source": [
    "fei = student('feifei' , 52)\n",
    "fei.print_info()"
   ]
  },
  {
   "cell_type": "code",
   "execution_count": 3,
   "metadata": {},
   "outputs": [
    {
     "name": "stdout",
     "output_type": "stream",
     "text": [
      "52\n"
     ]
    }
   ],
   "source": [
    "print(fei.score)"
   ]
  },
  {
   "cell_type": "code",
   "execution_count": 9,
   "metadata": {},
   "outputs": [
    {
     "name": "stdout",
     "output_type": "stream",
     "text": [
      "22\n",
      "feifei 22\n"
     ]
    }
   ],
   "source": [
    "#Python允许对实例变量绑定任何数据 类似下面这样\n",
    "fei.score = 22\n",
    "print(fei.score)\n",
    "fei.print_info()\n",
    "#显示 已经修改了实例成员"
   ]
  },
  {
   "cell_type": "code",
   "execution_count": 5,
   "metadata": {},
   "outputs": [
    {
     "name": "stdout",
     "output_type": "stream",
     "text": [
      "feifei 52\n"
     ]
    }
   ],
   "source": [
    "#禁止上述的访问形式  不能被外部访问的内部属性\n",
    "#如果要让内部属性不被外部访问，可以把属性的名称前加上两个下划线__，\n",
    "#在Python中，实例的变量名如果以__开头，就变成了一个私有变量（private），两个下划线\n",
    "#只有内部可以访问，外部不能访问\n",
    "\n",
    "class Student(object):\n",
    "    def __init__(self , name , score):\n",
    "        self.__name = name\n",
    "        self.__score = score\n",
    "    \n",
    "    def print_info(self):\n",
    "        print('%s %s' % (self.__name , self.__score))\n",
    "\n",
    "yu = Student('feifei' , 52)\n",
    "yu.print_info()"
   ]
  },
  {
   "cell_type": "code",
   "execution_count": 8,
   "metadata": {},
   "outputs": [
    {
     "name": "stdout",
     "output_type": "stream",
     "text": [
      "12\n",
      "feifei 52\n"
     ]
    }
   ],
   "source": [
    "yu.__score = 12\n",
    "print(yu.__score)\n",
    "yu.print_info()\n",
    "#无法修改了 其实还是没有修改\n",
    "'''\n",
    "表面上看，外部代码“成功”地设置了__score变量，\n",
    "但实际上这个__score变量和class内部的__score变量不是一个变量！\n",
    "内部的__score变量已经被Python解释器自动改成了_Student__score，\n",
    "而外部代码给yu这个实例新增了一个__score变量。\n",
    "'''"
   ]
  },
  {
   "cell_type": "code",
   "execution_count": 10,
   "metadata": {},
   "outputs": [
    {
     "data": {
      "text/plain": [
       "'\\n但是强烈建议你不要这么干，因为不同版本的Python解释器可能会把__name改成不同的变量名。\\n'"
      ]
     },
     "execution_count": 10,
     "metadata": {},
     "output_type": "execute_result"
    }
   ],
   "source": [
    "#如果需要修改或者获得的话 添加get set成员函数\n",
    "\n",
    "'''\n",
    "需要注意的是，在Python中，变量名类似__xxx__的，也就是以双下划线开头，\n",
    "并且以双下划线结尾的，是特殊变量，特殊变量是可以直接访问的，不是private变量，\n",
    "所以，不能用__name__、__score__这样的变量名。  \n",
    "有些时候，你会看到以一个下划线开头的实例变量名，比如_name，\n",
    "这样的实例变量外部是可以访问的，但是，按照约定俗成的规定，\n",
    "当你看到这样的变量时，意思就是，“虽然我可以被访问，\n",
    "但是，请把我视为私有变量，不要随意访问”。  \n",
    "双下划线开头的实例变量是不是一定不能从外部访问呢？\n",
    "其实也不是。不能直接访问__name是因为Python解释器对外把__name变量改成了_Student__name，\n",
    "所以，仍然可以通过_Student__name来访问__name变量：\n",
    "'''\n",
    "'''\n",
    "但是强烈建议你不要这么干，因为不同版本的Python解释器可能会把__name改成不同的变量名。\n",
    "'''"
   ]
  },
  {
   "cell_type": "code",
   "execution_count": 13,
   "metadata": {},
   "outputs": [
    {
     "name": "stdout",
     "output_type": "stream",
     "text": [
      "dog is running\n",
      "animal is running\n"
     ]
    }
   ],
   "source": [
    "#============\n",
    "#============\n",
    "#类的继承\n",
    "class animal(object):\n",
    "    def run(self):\n",
    "        print('animal is running')\n",
    "\n",
    "#子类的方法覆盖了父类的同名方法\n",
    "class dog(animal):\n",
    "    def run(self):\n",
    "        print('dog is running')\n",
    "    def eat(self):\n",
    "        print('dog is eating')\n",
    "\n",
    "class cat(animal):\n",
    "    pass\n",
    "#子类的实例的类型 既是子类 又是父类\n",
    "woof = dog()\n",
    "miao = cat()\n",
    "woof.run()\n",
    "miao.run()"
   ]
  },
  {
   "cell_type": "code",
   "execution_count": 15,
   "metadata": {},
   "outputs": [
    {
     "name": "stdout",
     "output_type": "stream",
     "text": [
      "animal is running\n",
      "dog is running\n"
     ]
    }
   ],
   "source": [
    "#类的多态\n",
    "def run_twice(animal):\n",
    "    animal.run()\n",
    "\n",
    "wed = animal()\n",
    "run_twice(wed)\n",
    "\n",
    "run_twice(woof)"
   ]
  },
  {
   "cell_type": "code",
   "execution_count": 16,
   "metadata": {},
   "outputs": [
    {
     "data": {
      "text/plain": [
       "'\\n调用方只管调用，不管细节，而当我们新增一种Animal的子类时，\\n    只要确保run()方法编写正确，不用管原来的代码是如何调用的。\\n    这就是著名的“开闭”原则：\\n\\n对扩展开放：允许新增Animal子类；\\n\\n对修改封闭：不需要修改依赖Animal类型的run_twice()等函数。\\n'"
      ]
     },
     "execution_count": 16,
     "metadata": {},
     "output_type": "execute_result"
    }
   ],
   "source": [
    "#多态叙述\n",
    "'''\n",
    "调用方只管调用，不管细节，而当我们新增一种Animal的子类时，\n",
    "    只要确保run()方法编写正确，不用管原来的代码是如何调用的。\n",
    "    这就是著名的“开闭”原则：\n",
    "\n",
    "对扩展开放：允许新增Animal子类；\n",
    "\n",
    "对修改封闭：不需要修改依赖Animal类型的run_twice()等函数。\n",
    "'''\n",
    "#动态语言的鸭子类型"
   ]
  },
  {
   "cell_type": "code",
   "execution_count": 23,
   "metadata": {},
   "outputs": [
    {
     "name": "stdout",
     "output_type": "stream",
     "text": [
      "<class 'int'>\n",
      "<class 'str'>\n",
      "<class 'float'>\n",
      "<class 'builtin_function_or_method'>\n",
      "True\n",
      "True\n"
     ]
    }
   ],
   "source": [
    "#====================\n",
    "#====================\n",
    "#获取对象的信息\n",
    "print(type(123))\n",
    "print(type('s'))\n",
    "print(type(123.2))\n",
    "print(type(abs))\n",
    "#type函数返回的是对应的Class类型\n",
    "#可以比较两个变量的type类型是否相同\n",
    "print(type('ab') == str)\n",
    "print(type(12.2) == float)\n"
   ]
  },
  {
   "cell_type": "code",
   "execution_count": 26,
   "metadata": {},
   "outputs": [
    {
     "name": "stdout",
     "output_type": "stream",
     "text": [
      "True\n",
      "True\n",
      "True\n"
     ]
    }
   ],
   "source": [
    "#还可以判断一个对象是否是函数\n",
    "#需要导入 types模块\n",
    "\n",
    "import types\n",
    "def fn():\n",
    "    pass\n",
    "\n",
    "print(type(fn) == types.FunctionType)\n",
    "\n",
    "#下面两个是一样的 内建函数 内建方法\n",
    "print(type(abs) == types.BuiltinFunctionType)\n",
    "print(type(abs) == types.BuiltinMethodType)\n"
   ]
  },
  {
   "cell_type": "code",
   "execution_count": 27,
   "metadata": {},
   "outputs": [
    {
     "name": "stdout",
     "output_type": "stream",
     "text": [
      "True\n",
      "True\n"
     ]
    }
   ],
   "source": [
    "print(type(lambda x:x) == types.LambdaType)\n",
    "print(type((x for x in range(10)))  == types.GeneratorType)"
   ]
  },
  {
   "cell_type": "code",
   "execution_count": 31,
   "metadata": {},
   "outputs": [
    {
     "name": "stdout",
     "output_type": "stream",
     "text": [
      "True\n",
      "True\n"
     ]
    }
   ],
   "source": [
    "#也可以使用isinstance进行判断\n",
    "print(isinstance(12 , int))\n",
    "print(isinstance(b'fd' , bytes))"
   ]
  },
  {
   "cell_type": "code",
   "execution_count": 35,
   "metadata": {},
   "outputs": [
    {
     "name": "stdout",
     "output_type": "stream",
     "text": [
      "True\n",
      "True\n"
     ]
    }
   ],
   "source": [
    "#isinstance还可以判断是否为多种类型中的某一个\n",
    "print(isinstance((1,23) , (list , tuple)))#list\n",
    "print(isinstance([1,23] , (list , tuple)))#tuple"
   ]
  },
  {
   "cell_type": "code",
   "execution_count": 36,
   "metadata": {},
   "outputs": [
    {
     "name": "stdout",
     "output_type": "stream",
     "text": [
      "True\n"
     ]
    }
   ],
   "source": [
    "#同时判断 子类 父类\n",
    "print(isinstance(miao , cat) and isinstance(miao , animal))"
   ]
  },
  {
   "cell_type": "code",
   "execution_count": 39,
   "metadata": {},
   "outputs": [
    {
     "data": {
      "text/plain": [
       "52"
      ]
     },
     "execution_count": 39,
     "metadata": {},
     "output_type": "execute_result"
    }
   ],
   "source": [
    "#dir函数 可以获得一个对象的所有属性和方法 返回list类型\n",
    "#所有属性 和方法\n",
    "dir(miao)\n",
    "#miao.__dir__()\n",
    "'''\n",
    "类似__xxx__的属性和方法在Python中都是有特殊用途的，\n",
    "    比如__len__方法返回长度。在Python中，如果你调用len()函数试图获取一个对象的长度，\n",
    "    实际上，在len()函数内部，它自动去调用该对象的__len__()方法，所以，下面的代码是等价的\n",
    "'''\n",
    "#我们自己写的类，如果也想用len(myObj)的话，就自己写一个__len__()方法：\n",
    "#这种特性 还是挺好用的 不错\n",
    "class people(object):\n",
    "    def __len__(self):\n",
    "        return 52\n",
    "\n",
    "me = people()\n",
    "len(me)"
   ]
  },
  {
   "cell_type": "code",
   "execution_count": 49,
   "metadata": {},
   "outputs": [
    {
     "name": "stdout",
     "output_type": "stream",
     "text": [
      "2704\n",
      "True\n",
      "False\n",
      "True\n",
      "55\n"
     ]
    }
   ],
   "source": [
    "#仅仅把属性和方法列出来是不够的，\n",
    "    #配合getattr()、setattr()以及hasattr()，\n",
    "    #我们可以直接操作一个对象的状态：\n",
    "class car(object):\n",
    "    def __init__(self):\n",
    "        self.x = 52\n",
    "    \n",
    "    def power(self):\n",
    "        return self.x * self.x\n",
    "\n",
    "benz = car()\n",
    "print(benz.power())\n",
    "\n",
    "#使用上面的三个函数 进行测试\n",
    "print(hasattr(benz , 'x'))#是否有属性x\n",
    "print(hasattr(benz , 'y'))#是否有属性y\n",
    "dir(benz)#没有属性y\n",
    "#设置一个属性y\n",
    "setattr(benz , 'y' , 55)\n",
    "print(hasattr(benz , 'y'))#是否有属性y\n",
    "dir(benz)#现在有属性y了\n",
    "\n",
    "#可以获取属性y了\n",
    "print(getattr(benz, 'y'))"
   ]
  },
  {
   "cell_type": "code",
   "execution_count": 52,
   "metadata": {},
   "outputs": [
    {
     "name": "stdout",
     "output_type": "stream",
     "text": [
      "404\n"
     ]
    }
   ],
   "source": [
    "#获取一个不存在的属性\n",
    "#抛出异常\n",
    "#print(getattr(benz , 'z'))\n",
    "\n",
    "#可以传入一个default参数\n",
    "print(getattr(benz, 'z' ,404))"
   ]
  },
  {
   "cell_type": "code",
   "execution_count": 55,
   "metadata": {},
   "outputs": [
    {
     "name": "stdout",
     "output_type": "stream",
     "text": [
      "True\n",
      "False\n"
     ]
    },
    {
     "data": {
      "text/plain": [
       "2704"
      ]
     },
     "execution_count": 55,
     "metadata": {},
     "output_type": "execute_result"
    }
   ],
   "source": [
    "#也可以使用上面3个函数 来判断对象的方法（也可以获得）\n",
    "print(hasattr(benz , 'power'))\n",
    "print(hasattr(benz , 'no'))\n",
    "\n",
    "#将对象的成员函数获取出来\n",
    "get_method = getattr(benz , 'power')\n",
    "get_method()"
   ]
  },
  {
   "cell_type": "code",
   "execution_count": 59,
   "metadata": {},
   "outputs": [
    {
     "name": "stdout",
     "output_type": "stream",
     "text": [
      "feifei\n"
     ]
    },
    {
     "data": {
      "text/plain": [
       "['__class__',\n",
       " '__delattr__',\n",
       " '__dict__',\n",
       " '__dir__',\n",
       " '__doc__',\n",
       " '__eq__',\n",
       " '__format__',\n",
       " '__ge__',\n",
       " '__getattribute__',\n",
       " '__gt__',\n",
       " '__hash__',\n",
       " '__init__',\n",
       " '__init_subclass__',\n",
       " '__le__',\n",
       " '__lt__',\n",
       " '__module__',\n",
       " '__ne__',\n",
       " '__new__',\n",
       " '__reduce__',\n",
       " '__reduce_ex__',\n",
       " '__repr__',\n",
       " '__setattr__',\n",
       " '__sizeof__',\n",
       " '__str__',\n",
       " '__subclasshook__',\n",
       " '__weakref__',\n",
       " 'age',\n",
       " 'name']"
      ]
     },
     "execution_count": 59,
     "metadata": {},
     "output_type": "execute_result"
    }
   ],
   "source": [
    "class role(object):\n",
    "    def __init__(self , name):\n",
    "        self.name = name\n",
    "\n",
    "sword = role('feifei')\n",
    "print(sword.name)\n",
    "sword.age = 22\n",
    "dir(sword)\n",
    "\n",
    "#test实例还是没有age属性 上面的sword的属性age只属于sword\n",
    "#test = role('yu')\n",
    "#test.age"
   ]
  },
  {
   "cell_type": "code",
   "execution_count": 69,
   "metadata": {},
   "outputs": [
    {
     "name": "stdout",
     "output_type": "stream",
     "text": [
      "GUN\n",
      "GUN\n",
      "alice\n",
      "GUN\n",
      "GUN\n"
     ]
    }
   ],
   "source": [
    "#可以为一个类本身绑定属性\n",
    "#类似c++ static\n",
    "class gun(object):\n",
    "    name = 'GUN'\n",
    "\n",
    "weapon = gun()\n",
    "print(weapon.name)\n",
    "#类和实例都可以访问\n",
    "print(gun.name)\n",
    "\n",
    "weapon.name = 'alice'\n",
    "print(weapon.name)# 由于实例属性优先级比类属性高，\n",
    "                  #因此，它会屏蔽掉类的name属性\n",
    "print(gun.name)#类中的不会变 \n",
    "\n",
    "#删除实例的属性\n",
    "#再次调用时实例的属性不在了 就会显示类的属性\n",
    "del(weapon.name)\n",
    "print(weapon.name)"
   ]
  },
  {
   "cell_type": "code",
   "execution_count": null,
   "metadata": {
    "collapsed": true
   },
   "outputs": [],
   "source": []
  }
 ],
 "metadata": {
  "kernelspec": {
   "display_name": "Python 3",
   "language": "python",
   "name": "python3"
  },
  "language_info": {
   "codemirror_mode": {
    "name": "ipython",
    "version": 3
   },
   "file_extension": ".py",
   "mimetype": "text/x-python",
   "name": "python",
   "nbconvert_exporter": "python",
   "pygments_lexer": "ipython3",
   "version": "3.6.2"
  }
 },
 "nbformat": 4,
 "nbformat_minor": 2
}
