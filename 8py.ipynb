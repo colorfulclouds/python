{
 "cells": [
  {
   "cell_type": "code",
   "execution_count": 1,
   "metadata": {
    "collapsed": true
   },
   "outputs": [],
   "source": [
    "#从下面开始编写一个python模块\n",
    "'''\n",
    "第1行和第2行是标准注释，第1行注释可以让这个hello.py文件直接在Unix/Linux/Mac上运行，\n",
    "第2行注释表示.py文件本身使用标准UTF-8编码；\n",
    "第4行是一个字符串，表示模块的文档注释，\n",
    "    任何模块代码的第一个字符串都被视为模块的文档注释；\n",
    "第6行使用__author__变量把作者写进去，\n",
    "    这样当你公开源代码后别人就可以瞻仰你的大名；\n",
    "以上就是Python模块的标准文件模板，当然也可以全部删掉不写，但是，按标准办事肯定没错。\n",
    "后面开始就是真正的代码部分\n",
    "'''"
   ]
  },
  {
   "cell_type": "code",
   "execution_count": null,
   "metadata": {
    "collapsed": true
   },
   "outputs": [],
   "source": [
    "#！/usr/bin/env python3\n",
    "#-*- coding: utf-8 -*-\n",
    "\n",
    "'a test module'\n",
    "\n",
    "__author__ = 'fei'\n",
    "\n",
    "#开始真正的模块代码\n",
    "import sys\n",
    "\n",
    "def test():\n",
    "    args = sys.argv\n",
    "    \n",
    "    if len(args) == 1:\n",
    "        print('hello world')\n",
    "    elif len(args) == 2:\n",
    "        print('hello %s' % args[1])\n",
    "    else:\n",
    "        print('too many paras')\n",
    "\n",
    "if __name__ == '__main__':\n",
    "    test()"
   ]
  },
  {
   "cell_type": "code",
   "execution_count": null,
   "metadata": {
    "collapsed": true
   },
   "outputs": [],
   "source": [
    "'''\n",
    "导入sys模块后，我们就有了变量sys指向该模块，利用sys这个变量，就可以访问sys模块的所有功能。\n",
    "\n",
    "sys模块有一个argv变量，用list存储了命令行的所有参数。argv至少有一个元素，因为第一个参数永远是该.py文件的名称，例如：\n",
    "\n",
    "运行python3 hello.py获得的sys.argv就是['hello.py']；\n",
    "\n",
    "运行python3 hello.py Michael获得的sys.argv就是['hello.py', 'Michael]\n",
    "'''\n",
    "#后两行代码 if\n",
    "'''\n",
    "当我们在命令行运行hello模块文件时，\n",
    "Python解释器把一个特殊变量__name__置为__main__，\n",
    "而如果在其他地方导入该hello模块时，if判断将失败，\n",
    "因此，这种if测试可以让一个模块通过命令行运行时执行一些额外的代码，\n",
    "最常见的就是运行测试。\n",
    "就是满足其用命令行调用 这个模块文件 可以运行出结果\n",
    "'''\n",
    "'''\n",
    "$ python3 hello.py\n",
    "Hello, world!\n",
    "$ python hello.py Michael\n",
    "Hello, Michael!\n",
    "'''"
   ]
  },
  {
   "cell_type": "code",
   "execution_count": null,
   "metadata": {
    "collapsed": true
   },
   "outputs": [],
   "source": [
    "'''\n",
    "在一个模块中，我们可能会定义很多函数和变量，但有的函数和变量我们希望给别人使用，\n",
    "    有的函数和变量我们希望仅仅在模块内部使用。在Python中，是通过_前缀来实现的。\n",
    "正常的函数和变量名是公开的（public），可以被直接引用，比如：abc，x123，PI等；\n",
    "类似__xxx__这样的变量是特殊变量，可以被直接引用，但是有特殊用途，\n",
    "    比如上面的__author__，__name__就是特殊变量，hello模块定义的文档注释也可以用特殊变量__doc__访问，\n",
    "    我们自己的变量一般不要用这种变量名；\n",
    "\n",
    "类似_xxx和__xxx这样的函数或变量就是非公开的（private），\n",
    "    不应该被直接引用，比如_abc，__abc等；\n",
    "\n",
    "之所以我们说，private函数和变量“不应该”被直接引用，\n",
    "    而不是“不能”被直接引用，是因为Python并没有一种方法可以完全限制访问private函数或变量，\n",
    "    但是，从编程习惯上不应该引用private函数或变量。\n",
    "\n",
    "private函数或变量不应该被别人引用，那它们有什么用呢？请看例子：\n",
    "'''"
   ]
  },
  {
   "cell_type": "code",
   "execution_count": null,
   "metadata": {
    "collapsed": true
   },
   "outputs": [],
   "source": [
    "#假设下面的代码是在一个模块中\n",
    "def _private_1(name):\n",
    "    return 'Hello, %s' % name\n",
    "\n",
    "def _private_2(name):\n",
    "    return 'Hi, %s' % name\n",
    "\n",
    "def greeting(name):\n",
    "    if len(name) > 3:\n",
    "        return _private_1(name)\n",
    "    else:\n",
    "        return _private_2(name)\n",
    "\n",
    "'''\n",
    "我们在模块里公开greeting()函数，而把内部逻辑用private函数隐藏起来了，\n",
    "    这样，调用greeting()函数不用关心内部的private函数细节，\n",
    "    这也是一种非常有用的代码封装和抽象的方法，即：\n",
    "\n",
    "外部不需要引用的函数全部定义成private，只有外部需要引用的函数才定义为public。\n",
    "'''"
   ]
  }
 ],
 "metadata": {
  "kernelspec": {
   "display_name": "Python 3",
   "language": "python",
   "name": "python3"
  },
  "language_info": {
   "codemirror_mode": {
    "name": "ipython",
    "version": 3
   },
   "file_extension": ".py",
   "mimetype": "text/x-python",
   "name": "python",
   "nbconvert_exporter": "python",
   "pygments_lexer": "ipython3",
   "version": "3.6.2"
  }
 },
 "nbformat": 4,
 "nbformat_minor": 2
}
