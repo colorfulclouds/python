{
 "cells": [
  {
   "cell_type": "code",
   "execution_count": 32,
   "metadata": {
    "collapsed": true
   },
   "outputs": [],
   "source": [
    "import functools\n",
    "#下面要使用完整的修饰器定义 所准备"
   ]
  },
  {
   "cell_type": "code",
   "execution_count": 2,
   "metadata": {},
   "outputs": [
    {
     "name": "stdout",
     "output_type": "stream",
     "text": [
      "4580\n"
     ]
    }
   ],
   "source": [
    "#求和函数 可变参数\n",
    "def cal_sum(*args):\n",
    "\tax = 0\n",
    "\t\n",
    "\tfor n in args:\n",
    "\t\tax = ax + n\n",
    "\t\n",
    "\treturn ax\n",
    "\n",
    "print(cal_sum(10,12,4234,324))"
   ]
  },
  {
   "cell_type": "code",
   "execution_count": 3,
   "metadata": {},
   "outputs": [
    {
     "name": "stdout",
     "output_type": "stream",
     "text": [
      "<function lazy_sum.<locals>.sum at 0x00000191FF93A730>\n"
     ]
    }
   ],
   "source": [
    "#函数式编程\n",
    "#函数作为返回值\n",
    "\n",
    "def lazy_sum(*args):\n",
    "    this = 52 #这个变量和lazy_sum的参数 在下面的sum函数都可见\n",
    "    #都保存在返回的函数中 称为“闭包”\n",
    "\tdef sum():\n",
    "\t\tax = 0\n",
    "\t\tfor n in args:\n",
    "\t\t\tax = ax + n\n",
    "\t\t\n",
    "\t\treturn ax\n",
    "\t\n",
    "\treturn sum\n",
    "\n",
    "#f是一个函数\n",
    "f = lazy_sum(1,2,5,2)\n",
    "print(f)"
   ]
  },
  {
   "cell_type": "code",
   "execution_count": 4,
   "metadata": {},
   "outputs": [
    {
     "data": {
      "text/plain": [
       "10"
      ]
     },
     "execution_count": 4,
     "metadata": {},
     "output_type": "execute_result"
    }
   ],
   "source": [
    "f()"
   ]
  },
  {
   "cell_type": "code",
   "execution_count": 5,
   "metadata": {},
   "outputs": [
    {
     "name": "stdout",
     "output_type": "stream",
     "text": [
      "False\n"
     ]
    }
   ],
   "source": [
    "f1 = lazy_sum(1,2,5,4,8,21)\n",
    "f2 = lazy_sum(1,2,5,4,8,21)\n",
    "#是不相等的 即便参数相同\n",
    "print(f1==f2)"
   ]
  },
  {
   "cell_type": "code",
   "execution_count": 6,
   "metadata": {
    "collapsed": true
   },
   "outputs": [],
   "source": [
    "def count():\n",
    "    fs = []\n",
    "    for i in range(1 , 4):\n",
    "        def f():\n",
    "            return i*i\n",
    "        \n",
    "        fs.append(f)\n",
    "    \n",
    "    return fs\n",
    "\n",
    "f1,f2,f3 = count()"
   ]
  },
  {
   "cell_type": "code",
   "execution_count": 8,
   "metadata": {},
   "outputs": [
    {
     "name": "stdout",
     "output_type": "stream",
     "text": [
      "9\n",
      "9\n",
      "9\n"
     ]
    }
   ],
   "source": [
    "print(f1())\n",
    "print(f2())\n",
    "print(f3())\n",
    "#原因就在于返回的函数引用了变量i，但它并非立刻执行。\n",
    "#等到3个函数都返回时，\n",
    "#它们所引用的变量i已经变成了3，因此最终结果为9\n",
    "#返回闭包返回函数不用引用任何循环变量 或者后续会发生变化的变量"
   ]
  },
  {
   "cell_type": "code",
   "execution_count": 9,
   "metadata": {
    "collapsed": true
   },
   "outputs": [],
   "source": [
    "#如果非要使用循环变量 创建一个函数 用该函数的参数绑定循环变量当前的值\n",
    "def count2():\n",
    "    def f(j):\n",
    "        def g():\n",
    "            return j*j\n",
    "        return g\n",
    "    \n",
    "    fs = []\n",
    "    #使用立即执行的方式 直接计算了\n",
    "    for i in range(1 , 4):\n",
    "        fs.append(f(i))\n",
    "        \n",
    "    return fs"
   ]
  },
  {
   "cell_type": "code",
   "execution_count": 11,
   "metadata": {},
   "outputs": [
    {
     "name": "stdout",
     "output_type": "stream",
     "text": [
      "1\n",
      "4\n",
      "9\n"
     ]
    }
   ],
   "source": [
    "f1 , f2 , f3 = count2()\n",
    "print(f1())\n",
    "print(f2())\n",
    "print(f3())\n"
   ]
  },
  {
   "cell_type": "code",
   "execution_count": 12,
   "metadata": {},
   "outputs": [
    {
     "name": "stdout",
     "output_type": "stream",
     "text": [
      "[1, 4, 9, 16, 25]\n"
     ]
    }
   ],
   "source": [
    "#匿名函数 不需要显示地的定义函数\n",
    "#关键字 lambda 表示匿名函数 \n",
    "a = list(map(lambda x:x*x , [1,2,3,4,5]))\n",
    "print(a)"
   ]
  },
  {
   "cell_type": "code",
   "execution_count": 13,
   "metadata": {
    "collapsed": true
   },
   "outputs": [],
   "source": [
    "lambda x:x*x\n",
    "#上下两种方式一样\n",
    "def f(x):\n",
    "    return x*x"
   ]
  },
  {
   "cell_type": "code",
   "execution_count": 15,
   "metadata": {},
   "outputs": [
    {
     "name": "stdout",
     "output_type": "stream",
     "text": [
      "4\n"
     ]
    }
   ],
   "source": [
    "#匿名函数也是一个函数对象 也可以把匿名函数赋值给一个变量 \n",
    "#再利用该变量调用函数\n",
    "\n",
    "f = lambda x:x*x\n",
    "print(f(2))"
   ]
  },
  {
   "cell_type": "code",
   "execution_count": 16,
   "metadata": {},
   "outputs": [
    {
     "name": "stdout",
     "output_type": "stream",
     "text": [
      "<function build.<locals>.<lambda> at 0x00000191FF93AB70>\n",
      "5\n"
     ]
    }
   ],
   "source": [
    "#也可以把匿名函数返回回来\n",
    "def build(x,y):\n",
    "    return lambda :x*x+y*y\n",
    "\n",
    "kk = build(1,2)\n",
    "print(kk)\n",
    "print(kk())"
   ]
  },
  {
   "cell_type": "code",
   "execution_count": 17,
   "metadata": {
    "collapsed": true
   },
   "outputs": [],
   "source": [
    "#感觉返回函数 像是返回函数指针"
   ]
  },
  {
   "cell_type": "code",
   "execution_count": 26,
   "metadata": {},
   "outputs": [
    {
     "name": "stdout",
     "output_type": "stream",
     "text": [
      "call now()\n",
      "haha\n"
     ]
    }
   ],
   "source": [
    "#==================\n",
    "#==================\n",
    "#装饰器\n",
    "#函数是对象\n",
    "\n",
    "#把@log放到now()函数的定义处，相当于执行了语句：\n",
    "#now = log(now)\n",
    "'''\n",
    "由于log()是一个decorator，返回一个函数，所以，\n",
    "原来的now()函数仍然存在，只是现在同名的now变量指向了新的函数，\n",
    "于是调用now()将执行新函数，即在log()函数中返回的wrapper()函数。\n",
    "wrapper()函数的参数定义是(*args, **kw)，\n",
    "因此，wrapper()函数可以接受任意参数的调用。\n",
    "在wrapper()函数内，首先打印日志，再紧接着调用原始函数。\n",
    "'''\n",
    "#log()就是一个装饰器\n",
    "\n",
    "@log\n",
    "def now():\n",
    "    print('haha')\n",
    "\n",
    "#f = now\n",
    "#f()\n",
    "now()"
   ]
  },
  {
   "cell_type": "code",
   "execution_count": 23,
   "metadata": {},
   "outputs": [
    {
     "name": "stdout",
     "output_type": "stream",
     "text": [
      "now\n",
      "now\n"
     ]
    }
   ],
   "source": [
    "#函数对象有一个__name__属性 可以拿到函数的名字\n",
    "print(now.__name__)\n",
    "print(f.__name__)"
   ]
  },
  {
   "cell_type": "code",
   "execution_count": 24,
   "metadata": {
    "collapsed": true
   },
   "outputs": [],
   "source": [
    "def log(func):\n",
    "    def wrapper(*args , **kw):\n",
    "        print('call %s()' % func.__name__)\n",
    "        return func(*args , **kw)\n",
    "    \n",
    "    return wrapper"
   ]
  },
  {
   "cell_type": "code",
   "execution_count": 31,
   "metadata": {},
   "outputs": [
    {
     "name": "stdout",
     "output_type": "stream",
     "text": [
      "zheli now2\n",
      "fd\n",
      "wrapper\n"
     ]
    }
   ],
   "source": [
    "def log2(text):\n",
    "    def decorator(func):\n",
    "        def wrapper(*args , **kw):\n",
    "            print('%s %s' % (text , func.__name__))\n",
    "            return func(*args , **kw)\n",
    "        return wrapper\n",
    "    return decorator\n",
    "\n",
    "#now = log('execute')(now) 实际调用情况\n",
    "@log2('zheli')\n",
    "def now2():\n",
    "    print('fd')\n",
    "\n",
    "now2()\n",
    "print(now2.__name__)\n",
    "\n",
    "'''\n",
    "首先执行log('execute')，返回的是decorator函数，\n",
    "再调用返回的函数，参数是now函数，返回值最终是wrapper函数\n",
    "'''\n",
    "'''\n",
    "不需要编写wrapper.__name__ = func.__name__这样的代码，\n",
    "Python内置的functools.wraps就是干这个事的，'''\n",
    "'''\n",
    "因为返回的那个wrapper()函数名字就是'wrapper'，所以，\n",
    "需要把原始函数的__name__等属性复制到wrapper()函数中，\n",
    "否则，有些依赖函数签名的代码执行就会出错。\n",
    "'''\n"
   ]
  },
  {
   "cell_type": "code",
   "execution_count": 33,
   "metadata": {
    "collapsed": true
   },
   "outputs": [],
   "source": [
    "#无参数修饰器\n",
    "#需要引入functools\n",
    "\n",
    "def log_t(func):\n",
    "    @functools.wraps(func)\n",
    "    def wrapper(*args , **kw):\n",
    "        print('call %s():' % func.__name__)\n",
    "        return func(*args , **kw)\n",
    "    return wrapper"
   ]
  },
  {
   "cell_type": "code",
   "execution_count": 34,
   "metadata": {
    "collapsed": true
   },
   "outputs": [],
   "source": [
    "#无参数修饰器\n",
    "def log(text):\n",
    "    def decorator(func):\n",
    "        @functools.wraps(func)\n",
    "        def wrapper(*args , **kw):\n",
    "            print('%s %s():' % (text , func.__name__))\n",
    "            return func(*args , **kw)\n",
    "        return wrapper\n",
    "    return decorator"
   ]
  },
  {
   "cell_type": "code",
   "execution_count": 36,
   "metadata": {},
   "outputs": [
    {
     "name": "stdout",
     "output_type": "stream",
     "text": [
      "12\n",
      "10\n"
     ]
    }
   ],
   "source": [
    "#==============\n",
    "#==============\n",
    "#偏函数\n",
    "\n",
    "#字符串转为数字 10进制\n",
    "number = int('12' , base = 10)\n",
    "print(number)\n",
    "#8进制\n",
    "number = int('12' , base = 8)\n",
    "print(number)"
   ]
  },
  {
   "cell_type": "code",
   "execution_count": 38,
   "metadata": {},
   "outputs": [
    {
     "name": "stdout",
     "output_type": "stream",
     "text": [
      "18\n"
     ]
    }
   ],
   "source": [
    "#2进制\n",
    "def int2(x , base = 2):\n",
    "    return int(x , base)\n",
    "\n",
    "number = int2('10010')\n",
    "print(number)"
   ]
  },
  {
   "cell_type": "code",
   "execution_count": 40,
   "metadata": {},
   "outputs": [
    {
     "name": "stdout",
     "output_type": "stream",
     "text": [
      "2\n",
      "8\n"
     ]
    }
   ],
   "source": [
    "#引入偏函数 需要引入functools\n",
    "int2 = functools.partial(int , base = 2)\n",
    "number = int2('10')\n",
    "print(number)\n",
    "\n",
    "'''\n",
    "所以，简单总结functools.partial的作用就是，\n",
    "把一个函数的某些参数给固定住（也就是设置默认值），\n",
    "返回一个新的函数，调用这个新函数会更简单。\n",
    "注意到上面的新的int2函数，仅仅是把base参数重新设定默认值为2，\n",
    "但也可以在函数调用时传入其他值\n",
    "'''\n",
    "\n",
    "#下面调用也正确\n",
    "number = int2('10' , base = 8)\n",
    "print(number)\n",
    "\n",
    "'''\n",
    "最后，创建偏函数时，实际上可以接收 函数对象、*args和**kw这3个参数，当传入：\n",
    "'''\n",
    "#int('10010)\n",
    "#相当于\n",
    "#kw = { 'base': 2 }\n",
    "#int('10010', **kw)"
   ]
  },
  {
   "cell_type": "code",
   "execution_count": 41,
   "metadata": {},
   "outputs": [
    {
     "name": "stdout",
     "output_type": "stream",
     "text": [
      "10\n"
     ]
    }
   ],
   "source": [
    "#下面代码\n",
    "#实际上会把10作为*args的一部分自动加到左边，也就是\n",
    "max2 = functools.partial(max , 10)\n",
    "result = max2(5,6,7)\n",
    "\n",
    "print(result)"
   ]
  },
  {
   "cell_type": "code",
   "execution_count": 42,
   "metadata": {},
   "outputs": [
    {
     "name": "stdout",
     "output_type": "stream",
     "text": [
      "10\n"
     ]
    }
   ],
   "source": [
    "#上述代码块 实际如下\n",
    "args = (10 , 5 , 6 ,7)\n",
    "result = max(*args)\n",
    "print(result)"
   ]
  },
  {
   "cell_type": "code",
   "execution_count": null,
   "metadata": {
    "collapsed": true
   },
   "outputs": [],
   "source": [
    "#当函数的参数个数太多，需要简化时，\n",
    "#使用functools.partial可以创建一个新的函数，\n",
    "#这个新函数可以固定住原函数的部分参数，从而在调用时更简单。"
   ]
  }
 ],
 "metadata": {
  "kernelspec": {
   "display_name": "Python 3",
   "language": "python",
   "name": "python3"
  },
  "language_info": {
   "codemirror_mode": {
    "name": "ipython",
    "version": 3
   },
   "file_extension": ".py",
   "mimetype": "text/x-python",
   "name": "python",
   "nbconvert_exporter": "python",
   "pygments_lexer": "ipython3",
   "version": "3.6.2"
  }
 },
 "nbformat": 4,
 "nbformat_minor": 2
}
