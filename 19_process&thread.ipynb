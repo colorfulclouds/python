{
 "cells": [
  {
   "cell_type": "code",
   "execution_count": 1,
   "metadata": {
    "collapsed": true
   },
   "outputs": [],
   "source": [
    "import os\n"
   ]
  },
  {
   "cell_type": "code",
   "execution_count": 3,
   "metadata": {},
   "outputs": [
    {
     "data": {
      "text/plain": [
       "5320"
      ]
     },
     "execution_count": 3,
     "metadata": {},
     "output_type": "execute_result"
    }
   ],
   "source": [
    "os.getppid()"
   ]
  },
  {
   "cell_type": "code",
   "execution_count": 5,
   "metadata": {},
   "outputs": [
    {
     "ename": "AttributeError",
     "evalue": "module 'os' has no attribute 'fork'",
     "output_type": "error",
     "traceback": [
      "\u001b[1;31m---------------------------------------------------------------------------\u001b[0m",
      "\u001b[1;31mAttributeError\u001b[0m                            Traceback (most recent call last)",
      "\u001b[1;32m<ipython-input-5-785e139b8fdf>\u001b[0m in \u001b[0;36m<module>\u001b[1;34m()\u001b[0m\n\u001b[1;32m----> 1\u001b[1;33m \u001b[0mpid\u001b[0m \u001b[1;33m=\u001b[0m \u001b[0mos\u001b[0m\u001b[1;33m.\u001b[0m\u001b[0mfork\u001b[0m\u001b[1;33m(\u001b[0m\u001b[1;33m)\u001b[0m\u001b[1;33m\u001b[0m\u001b[0m\n\u001b[0m\u001b[0;32m      2\u001b[0m \u001b[1;31m#windows没有fork\u001b[0m\u001b[1;33m\u001b[0m\u001b[1;33m\u001b[0m\u001b[0m\n",
      "\u001b[1;31mAttributeError\u001b[0m: module 'os' has no attribute 'fork'"
     ]
    }
   ],
   "source": [
    "pid = os.fork()\n",
    "#windows没有fork"
   ]
  },
  {
   "cell_type": "code",
   "execution_count": 6,
   "metadata": {
    "collapsed": true
   },
   "outputs": [],
   "source": [
    "from multiprocessing import Process"
   ]
  },
  {
   "cell_type": "code",
   "execution_count": 18,
   "metadata": {
    "collapsed": true
   },
   "outputs": [],
   "source": [
    "def run_proc(name):\n",
    "    print('%s(%s)' % (name , os.getpid()))\n",
    "    print('sdsdsd')"
   ]
  },
  {
   "cell_type": "code",
   "execution_count": 17,
   "metadata": {},
   "outputs": [
    {
     "name": "stdout",
     "output_type": "stream",
     "text": [
      "parent 64384\n",
      "end\n"
     ]
    }
   ],
   "source": [
    "print('parent %s' % os.getpid())\n",
    "p_sub_pro = Process(target=run_proc , args=('fei',))\n",
    "p_sub_pro.start()\n",
    "p_sub_pro.join()\n",
    "print('end')"
   ]
  },
  {
   "cell_type": "code",
   "execution_count": 19,
   "metadata": {
    "collapsed": true
   },
   "outputs": [],
   "source": [
    "#进程池\n",
    "from multiprocessing import Pool\n",
    "import time , random\n"
   ]
  },
  {
   "cell_type": "code",
   "execution_count": 20,
   "metadata": {
    "collapsed": true
   },
   "outputs": [],
   "source": [
    "def long_time_task(name):\n",
    "    print('start %s' % name)\n",
    "    start = time.time()\n",
    "    time.sleep(random.random() * 3)\n",
    "    end = time.time()\n",
    "    print('end:%0.2f seconds' % end-start)\n",
    "\n"
   ]
  },
  {
   "cell_type": "code",
   "execution_count": null,
   "metadata": {},
   "outputs": [
    {
     "name": "stdout",
     "output_type": "stream",
     "text": [
      "sss\n",
      "waiting\n"
     ]
    }
   ],
   "source": [
    "print('sss')\n",
    "p = Pool(4) #pool有默认大小 不能太多进程\n",
    "for i in range(5):\n",
    "    p.apply_async(long_time_task , args=(i,))\n",
    "\n",
    "print('waiting')\n",
    "p.close()\n",
    "p.join()\n",
    "print('add done')"
   ]
  },
  {
   "cell_type": "code",
   "execution_count": 1,
   "metadata": {
    "collapsed": true
   },
   "outputs": [],
   "source": [
    "#子进程 子进程不是自身 而是一个外部进程\n",
    "import subprocess"
   ]
  },
  {
   "cell_type": "code",
   "execution_count": 2,
   "metadata": {},
   "outputs": [
    {
     "name": "stdout",
     "output_type": "stream",
     "text": [
      "exit code: 0\n"
     ]
    }
   ],
   "source": [
    "r = subprocess.call(['ping' , 'baidu.com'])\n",
    "print('exit code:',r)"
   ]
  },
  {
   "cell_type": "code",
   "execution_count": 3,
   "metadata": {
    "collapsed": true
   },
   "outputs": [],
   "source": [
    "#进程间通信\n",
    "#就是IPC机制\n",
    "from multiprocessing import Process , Queue\n",
    "import os , time , random"
   ]
  },
  {
   "cell_type": "code",
   "execution_count": 4,
   "metadata": {
    "collapsed": true
   },
   "outputs": [],
   "source": [
    "def write(q):\n",
    "    print('write:%s' % os.getpid())\n",
    "    \n",
    "    for value in ['A' , 'B' , 'C']:\n",
    "        print('put %s to queue...' % value)\n",
    "        q.put(value)\n",
    "        time.sleep(random.random())\n",
    "        \n",
    "def read(q):\n",
    "    print('read:%s' % os.getpid())\n",
    "    \n",
    "    while(True):\n",
    "        value = q.get(True)\n",
    "        print('get %s from queue' % value)"
   ]
  },
  {
   "cell_type": "code",
   "execution_count": 6,
   "metadata": {
    "collapsed": true
   },
   "outputs": [],
   "source": [
    "q = Queue()\n",
    "pw = Process(target=write , args=(q,))\n",
    "pr = Process(target=read , args=(q,))\n",
    "\n",
    "pw.start()\n",
    "\n",
    "pr.start()\n",
    "\n",
    "pw.join()\n",
    "\n",
    "pr.terminate()"
   ]
  },
  {
   "cell_type": "code",
   "execution_count": 1,
   "metadata": {
    "collapsed": true
   },
   "outputs": [],
   "source": [
    "#multiprocessing如果在windows上调用失败 首先考虑pickle是不是失败了"
   ]
  },
  {
   "cell_type": "code",
   "execution_count": 2,
   "metadata": {
    "collapsed": true
   },
   "outputs": [],
   "source": [
    "#多线程\n",
    "#_thread 低级模块\n",
    "#threading高级模块\n",
    "import time , threading"
   ]
  },
  {
   "cell_type": "code",
   "execution_count": 3,
   "metadata": {},
   "outputs": [
    {
     "name": "stdout",
     "output_type": "stream",
     "text": [
      "thread MainThread is running..\n",
      "thread running name:loopthread\n",
      "thread loopthread >>> 1\n",
      "thread loopthread >>> 2\n",
      "thread loopthread >>> 3\n",
      "thread loopthread >>> 4\n",
      "thread loopthread >>> 5\n",
      "thread loopthread ended\n",
      "thread MainThread ended\n"
     ]
    }
   ],
   "source": [
    "def loop():\n",
    "    print('thread running name:%s' % threading.current_thread().name)\n",
    "    \n",
    "    n=0\n",
    "    \n",
    "    while n<5:\n",
    "        n=n+1\n",
    "        print('thread %s >>> %s' % (threading.current_thread().name , n))\n",
    "        time.sleep(1)\n",
    "    \n",
    "    print('thread %s ended' % threading.current_thread().name)\n",
    "    \n",
    "print('thread %s is running..' % threading.current_thread().name)\n",
    "t = threading.Thread(target=loop , name='loopthread')\n",
    "t.start()\n",
    "t.join()\n",
    "print('thread %s ended' % threading.current_thread().name)"
   ]
  },
  {
   "cell_type": "code",
   "execution_count": 8,
   "metadata": {
    "collapsed": true
   },
   "outputs": [],
   "source": [
    "import time , threading\n",
    "\n",
    "balance = 0\n",
    "\n",
    "lock = threading.Lock() ###"
   ]
  },
  {
   "cell_type": "code",
   "execution_count": 9,
   "metadata": {},
   "outputs": [
    {
     "name": "stdout",
     "output_type": "stream",
     "text": [
      "0\n"
     ]
    }
   ],
   "source": [
    "def change_it(n):\n",
    "    global balance\n",
    "    \n",
    "    balance = balance + n\n",
    "    balance = balance - n\n",
    "\n",
    "def run_thread(n):\n",
    "    for i in range(100000):\n",
    "        lock.acquire() ###\n",
    "        try: ###\n",
    "            change_it(n)\n",
    "        finally: ###\n",
    "            lock.release() ###\n",
    "\n",
    "t1 = threading.Thread(target=run_thread , args = (5,))\n",
    "t2 = threading.Thread(target=run_thread , args = (8,))\n",
    "\n",
    "t1.start()\n",
    "t2.start()\n",
    "\n",
    "t1.join()\n",
    "t2.join()\n",
    "\n",
    "print(balance)"
   ]
  },
  {
   "cell_type": "code",
   "execution_count": 10,
   "metadata": {
    "collapsed": true
   },
   "outputs": [],
   "source": [
    "import multiprocessing"
   ]
  },
  {
   "cell_type": "code",
   "execution_count": 11,
   "metadata": {},
   "outputs": [
    {
     "data": {
      "text/plain": [
       "4"
      ]
     },
     "execution_count": 11,
     "metadata": {},
     "output_type": "execute_result"
    }
   ],
   "source": [
    "multiprocessing.cpu_count()"
   ]
  },
  {
   "cell_type": "code",
   "execution_count": null,
   "metadata": {
    "collapsed": true
   },
   "outputs": [],
   "source": [
    "#GIL锁 （一个进程内 所有线程共同使用一个GIL锁）\n",
    "#python代码无法利用多核\n",
    "#https://www.liaoxuefeng.com/wiki/0014316089557264a6b348958f449949df42a6d3a2e542c000/00143192823818768cd506abbc94eb5916192364506fa5d000"
   ]
  },
  {
   "cell_type": "code",
   "execution_count": 1,
   "metadata": {
    "collapsed": true
   },
   "outputs": [],
   "source": [
    "class student(object):\n",
    "    def __init__(self , name , age , score):\n",
    "        self.name = name\n",
    "        self.age = age\n",
    "        self.score = score\n",
    "\n",
    "stu = student('fei' , 22 , 66)"
   ]
  },
  {
   "cell_type": "code",
   "execution_count": 2,
   "metadata": {
    "collapsed": true
   },
   "outputs": [],
   "source": [
    "import threading\n",
    "local_school = threading.local()"
   ]
  },
  {
   "cell_type": "code",
   "execution_count": 4,
   "metadata": {},
   "outputs": [
    {
     "name": "stdout",
     "output_type": "stream",
     "text": [
      "alice thread-a\n",
      "bob thread-b\n"
     ]
    }
   ],
   "source": [
    "def process_student():\n",
    "    std = local_school.student\n",
    "    print(std , threading.current_thread().name)\n",
    "\n",
    "def process_thread(name):\n",
    "    local_school.student = name\n",
    "    process_student()\n",
    "\n",
    "t1 = threading.Thread(target=process_thread , args=('alice',) , name='thread-a')\n",
    "t2 = threading.Thread(target=process_thread , args=('bob',) , name='thread-b')\n",
    "\n",
    "t1.start()\n",
    "t2.start()\n",
    "\n",
    "t1.join()\n",
    "t2.join()"
   ]
  },
  {
   "cell_type": "code",
   "execution_count": null,
   "metadata": {
    "collapsed": true
   },
   "outputs": [],
   "source": []
  }
 ],
 "metadata": {
  "kernelspec": {
   "display_name": "Python 3",
   "language": "python",
   "name": "python3"
  },
  "language_info": {
   "codemirror_mode": {
    "name": "ipython",
    "version": 3
   },
   "file_extension": ".py",
   "mimetype": "text/x-python",
   "name": "python",
   "nbconvert_exporter": "python",
   "pygments_lexer": "ipython3",
   "version": "3.6.1"
  }
 },
 "nbformat": 4,
 "nbformat_minor": 2
}
