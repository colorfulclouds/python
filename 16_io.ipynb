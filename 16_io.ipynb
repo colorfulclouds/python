{
 "cells": [
  {
   "cell_type": "markdown",
   "metadata": {},
   "source": [
    "IO编程中，Stream（流）是一个很重要的概念，可以把流想象成一个水管，数据就是水管里的水，但是只能单向流动"
   ]
  },
  {
   "cell_type": "code",
   "execution_count": 1,
   "metadata": {
    "collapsed": true
   },
   "outputs": [],
   "source": [
    "#同步IO"
   ]
  },
  {
   "cell_type": "code",
   "execution_count": 9,
   "metadata": {},
   "outputs": [
    {
     "name": "stdout",
     "output_type": "stream",
     "text": [
      "this is io test text\n"
     ]
    }
   ],
   "source": [
    "try:\n",
    "    file = open('file.txt' , 'r')\n",
    "    print(file.read())\n",
    "finally:\n",
    "    if file:\n",
    "        file.close()"
   ]
  },
  {
   "cell_type": "code",
   "execution_count": 10,
   "metadata": {},
   "outputs": [
    {
     "name": "stdout",
     "output_type": "stream",
     "text": [
      "this is io test text\n"
     ]
    }
   ],
   "source": [
    "with open('file.txt' , 'r') as fp:\n",
    "    print(fp.read())\n",
    "\n",
    "#不用手动关闭文件对象资源 自动释放"
   ]
  },
  {
   "cell_type": "code",
   "execution_count": 20,
   "metadata": {},
   "outputs": [],
   "source": [
    "file_test = open('file.txt' , 'r')"
   ]
  },
  {
   "cell_type": "code",
   "execution_count": 24,
   "metadata": {},
   "outputs": [
    {
     "data": {
      "text/plain": [
       "''"
      ]
     },
     "execution_count": 24,
     "metadata": {},
     "output_type": "execute_result"
    }
   ],
   "source": [
    "file_test.read(10) #参数为字节数"
   ]
  },
  {
   "cell_type": "code",
   "execution_count": 25,
   "metadata": {
    "collapsed": true
   },
   "outputs": [],
   "source": [
    "file_test.close()"
   ]
  },
  {
   "cell_type": "code",
   "execution_count": 28,
   "metadata": {},
   "outputs": [
    {
     "name": "stdout",
     "output_type": "stream",
     "text": [
      "this is io test text\n",
      "fei\n",
      "cike\n"
     ]
    }
   ],
   "source": [
    "file_ = open('file.txt' , 'r')\n",
    "print(file_.readline().strip())\n",
    "print(file_.readline().strip())\n",
    "print(file_.readline().strip())\n",
    "file_.close()\n",
    "\n",
    "#readline读出来有换行符存在 strip去掉换行符(末尾的\\n(linux系统) \\r\\n（Windows系统）)\n",
    "#readlines读出所有行 以list类型呈现 也含有换行符"
   ]
  },
  {
   "cell_type": "code",
   "execution_count": 31,
   "metadata": {},
   "outputs": [
    {
     "name": "stdout",
     "output_type": "stream",
     "text": [
      "this is io test text\n",
      "fei\n",
      "cike\n",
      "cheng\n",
      "中文测试\n"
     ]
    }
   ],
   "source": [
    "file_ = open('file.txt' , 'r')\n",
    "for _ in file_.readlines():\n",
    "    print(_.strip())\n",
    "\n",
    "file_.close()"
   ]
  },
  {
   "cell_type": "code",
   "execution_count": 32,
   "metadata": {
    "collapsed": true
   },
   "outputs": [],
   "source": [
    "#open函数返回的带有read方法的对象 python中称为file-like Object\n",
    "#只需要有一个read方法就可以了"
   ]
  },
  {
   "cell_type": "code",
   "execution_count": 36,
   "metadata": {},
   "outputs": [
    {
     "name": "stdout",
     "output_type": "stream",
     "text": [
      "b'binary\\xb6\\xfe\\xbd\\xf8\\xd6\\xc6\\r\\n'\n"
     ]
    }
   ],
   "source": [
    "file_bin = open('file.txt' , 'rb')\n",
    "print(file_bin.readline())\n",
    "file_bin.close()"
   ]
  },
  {
   "cell_type": "code",
   "execution_count": 37,
   "metadata": {},
   "outputs": [
    {
     "name": "stdout",
     "output_type": "stream",
     "text": [
      "binary二进制\n",
      "\n"
     ]
    }
   ],
   "source": [
    "file_format = open('file.txt' , 'r' , encoding='gbk') #传入编码参数\n",
    "print(file_format.readline())\n",
    "file_format.close()"
   ]
  },
  {
   "cell_type": "code",
   "execution_count": 38,
   "metadata": {
    "collapsed": true
   },
   "outputs": [],
   "source": [
    "#file_format = open('file.txt' , 'r' , encoding='gbk' , errors='ignore) #传入编码参数 对于不符号编码的字符 直接忽略 也可以不忽略\n"
   ]
  },
  {
   "cell_type": "code",
   "execution_count": 39,
   "metadata": {
    "collapsed": true
   },
   "outputs": [],
   "source": [
    "#===========\n",
    "#stringIO\n",
    "#bytesIO\n",
    "#stringIO 字符串在内存上IO\n",
    "from io import StringIO"
   ]
  },
  {
   "cell_type": "code",
   "execution_count": 43,
   "metadata": {},
   "outputs": [
    {
     "data": {
      "text/plain": [
       "'feimao'"
      ]
     },
     "execution_count": 43,
     "metadata": {},
     "output_type": "execute_result"
    }
   ],
   "source": [
    "f = StringIO()\n",
    "f.write('fei')\n",
    "f.write('mao')\n",
    "f.getvalue()"
   ]
  },
  {
   "cell_type": "code",
   "execution_count": 45,
   "metadata": {},
   "outputs": [
    {
     "name": "stdout",
     "output_type": "stream",
     "text": [
      "fei\n",
      "mao\n"
     ]
    }
   ],
   "source": [
    "ff = StringIO('fei\\r\\nmao')\n",
    "\n",
    "while True:\n",
    "    _ = ff.readline()\n",
    "    if _ == '':\n",
    "        break\n",
    "    \n",
    "    print(_.strip())"
   ]
  },
  {
   "cell_type": "code",
   "execution_count": 46,
   "metadata": {
    "collapsed": true
   },
   "outputs": [],
   "source": [
    "from io import BytesIO"
   ]
  },
  {
   "cell_type": "code",
   "execution_count": 47,
   "metadata": {},
   "outputs": [
    {
     "data": {
      "text/plain": [
       "12"
      ]
     },
     "execution_count": 47,
     "metadata": {},
     "output_type": "execute_result"
    }
   ],
   "source": [
    "b = BytesIO()\n",
    "b.write('中文测试'.encode('utf-8'))"
   ]
  },
  {
   "cell_type": "code",
   "execution_count": 48,
   "metadata": {},
   "outputs": [
    {
     "data": {
      "text/plain": [
       "b'\\xe4\\xb8\\xad\\xe6\\x96\\x87\\xe6\\xb5\\x8b\\xe8\\xaf\\x95'"
      ]
     },
     "execution_count": 48,
     "metadata": {},
     "output_type": "execute_result"
    }
   ],
   "source": [
    "b.getvalue()"
   ]
  },
  {
   "cell_type": "code",
   "execution_count": 53,
   "metadata": {},
   "outputs": [
    {
     "data": {
      "text/plain": [
       "b'\\xe4\\xb8\\xad\\xe6\\x96\\x87\\xe6\\xb5\\x8b\\xe8\\xaf\\x95'"
      ]
     },
     "execution_count": 53,
     "metadata": {},
     "output_type": "execute_result"
    }
   ],
   "source": [
    "bb = BytesIO(b'\\xe4\\xb8\\xad\\xe6\\x96\\x87\\xe6\\xb5\\x8b\\xe8\\xaf\\x95')\n",
    "bb.read()"
   ]
  },
  {
   "cell_type": "code",
   "execution_count": 54,
   "metadata": {
    "collapsed": true
   },
   "outputs": [],
   "source": [
    "#==============\n",
    "#os模块的使用\n",
    "import os"
   ]
  },
  {
   "cell_type": "code",
   "execution_count": null,
   "metadata": {
    "collapsed": true
   },
   "outputs": [],
   "source": []
  }
 ],
 "metadata": {
  "kernelspec": {
   "display_name": "Python 3",
   "language": "python",
   "name": "python3"
  },
  "language_info": {
   "codemirror_mode": {
    "name": "ipython",
    "version": 3
   },
   "file_extension": ".py",
   "mimetype": "text/x-python",
   "name": "python",
   "nbconvert_exporter": "python",
   "pygments_lexer": "ipython3",
   "version": "3.6.2"
  }
 },
 "nbformat": 4,
 "nbformat_minor": 2
}
