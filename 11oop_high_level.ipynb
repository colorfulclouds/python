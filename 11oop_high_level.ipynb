{
 "cells": [
  {
   "cell_type": "code",
   "execution_count": 1,
   "metadata": {},
   "outputs": [
    {
     "name": "stdout",
     "output_type": "stream",
     "text": [
      "feifie\n"
     ]
    }
   ],
   "source": [
    "class Student(object):\n",
    "    pass\n",
    "\n",
    "s = Student()\n",
    "\n",
    "#给实例绑定一个属性\n",
    "s.name = 'feifie'\n",
    "print(s.name)"
   ]
  },
  {
   "cell_type": "code",
   "execution_count": 2,
   "metadata": {},
   "outputs": [
    {
     "name": "stdout",
     "output_type": "stream",
     "text": [
      "22\n"
     ]
    }
   ],
   "source": [
    "#还可以为实例绑定方法\n",
    "#先定义一个函数 准备作为实例的方法\n",
    "def set_age(self , age):\n",
    "    self.age = age\n",
    "\n",
    "#需要引入模块\n",
    "from types import MethodType\n",
    "s.set_age = MethodType(set_age , s)\n",
    "#也相当引入了属性\n",
    "s.set_age(22)\n",
    "print(s.age)"
   ]
  },
  {
   "cell_type": "code",
   "execution_count": 5,
   "metadata": {},
   "outputs": [
    {
     "data": {
      "text/plain": [
       "['__class__',\n",
       " '__delattr__',\n",
       " '__dict__',\n",
       " '__dir__',\n",
       " '__doc__',\n",
       " '__eq__',\n",
       " '__format__',\n",
       " '__ge__',\n",
       " '__getattribute__',\n",
       " '__gt__',\n",
       " '__hash__',\n",
       " '__init__',\n",
       " '__init_subclass__',\n",
       " '__le__',\n",
       " '__lt__',\n",
       " '__module__',\n",
       " '__ne__',\n",
       " '__new__',\n",
       " '__reduce__',\n",
       " '__reduce_ex__',\n",
       " '__repr__',\n",
       " '__setattr__',\n",
       " '__sizeof__',\n",
       " '__str__',\n",
       " '__subclasshook__',\n",
       " '__weakref__',\n",
       " 'age',\n",
       " 'name',\n",
       " 'score',\n",
       " 'set_age',\n",
       " 'set_score']"
      ]
     },
     "execution_count": 5,
     "metadata": {},
     "output_type": "execute_result"
    }
   ],
   "source": [
    "#给一个实例绑定的属性和方法 对另一个实例没有用\n",
    "#想让所有试了都绑定方法 可以给类绑定方法\n",
    "def set_score(self , score):\n",
    "    self.score = score\n",
    "#给类绑定\n",
    "Student.set_score = set_score\n",
    "\n",
    "dir(s)\n",
    "#相当于绑定了新的属性score\n",
    "s.set_score(52)\n",
    "dir(s)"
   ]
  },
  {
   "cell_type": "code",
   "execution_count": 7,
   "metadata": {},
   "outputs": [
    {
     "ename": "AttributeError",
     "evalue": "'student' object has no attribute 'score'",
     "output_type": "error",
     "traceback": [
      "\u001b[1;31m---------------------------------------------------------------------------\u001b[0m",
      "\u001b[1;31mAttributeError\u001b[0m                            Traceback (most recent call last)",
      "\u001b[1;32m<ipython-input-7-f8e4088c7c05>\u001b[0m in \u001b[0;36m<module>\u001b[1;34m()\u001b[0m\n\u001b[0;32m      9\u001b[0m \u001b[0ms\u001b[0m\u001b[1;33m.\u001b[0m\u001b[0mage\u001b[0m \u001b[1;33m=\u001b[0m \u001b[1;36m22\u001b[0m\u001b[1;33m\u001b[0m\u001b[0m\n\u001b[0;32m     10\u001b[0m \u001b[1;33m\u001b[0m\u001b[0m\n\u001b[1;32m---> 11\u001b[1;33m \u001b[0ms\u001b[0m\u001b[1;33m.\u001b[0m\u001b[0mscore\u001b[0m \u001b[1;33m=\u001b[0m \u001b[1;36m52\u001b[0m\u001b[1;33m\u001b[0m\u001b[0m\n\u001b[0m",
      "\u001b[1;31mAttributeError\u001b[0m: 'student' object has no attribute 'score'"
     ]
    }
   ],
   "source": [
    "#太自由了  需要对属性的实例 进行限制 只允许添加指定的属性\n",
    "\n",
    "class student(object):\n",
    "    __slots__ = ('name' , 'age')\n",
    "\n",
    "s = student()\n",
    "\n",
    "s.name = 'feifei'\n",
    "s.age = 22\n",
    "#不能绑定score属性\n",
    "s.score = 52"
   ]
  },
  {
   "cell_type": "code",
   "execution_count": 8,
   "metadata": {
    "collapsed": true
   },
   "outputs": [],
   "source": [
    "#使用__slots__要注意，__slots__定义的属性仅对当前类实例起作用，\n",
    "    #对继承的子类是不起作用的：\n",
    "class classmate(student):\n",
    "    pass\n",
    "\n",
    "yu = classmate()\n",
    "#父类的__slot__对子类不起作用\n",
    "#除非在子类中也定义__slots__，\n",
    "    #这样，子类实例允许定义的属性就是自身的__slots__加上父类的__slots__。\n",
    "#子类中可以绑定属性的\n",
    "yu.score = 52"
   ]
  },
  {
   "cell_type": "code",
   "execution_count": null,
   "metadata": {
    "collapsed": true
   },
   "outputs": [],
   "source": []
  }
 ],
 "metadata": {
  "kernelspec": {
   "display_name": "Python 3",
   "language": "python",
   "name": "python3"
  },
  "language_info": {
   "codemirror_mode": {
    "name": "ipython",
    "version": 3
   },
   "file_extension": ".py",
   "mimetype": "text/x-python",
   "name": "python",
   "nbconvert_exporter": "python",
   "pygments_lexer": "ipython3",
   "version": "3.6.2"
  }
 },
 "nbformat": 4,
 "nbformat_minor": 2
}
