{
 "cells": [
  {
   "cell_type": "code",
   "execution_count": 1,
   "metadata": {},
   "outputs": [
    {
     "name": "stdout",
     "output_type": "stream",
     "text": [
      "['', 'I:\\\\Anaconda3\\\\python36.zip', 'I:\\\\Anaconda3\\\\DLLs', 'I:\\\\Anaconda3\\\\lib', 'I:\\\\Anaconda3', 'I:\\\\Anaconda3\\\\lib\\\\site-packages', 'I:\\\\Anaconda3\\\\lib\\\\site-packages\\\\Babel-2.5.0-py3.6.egg', 'I:\\\\Anaconda3\\\\lib\\\\site-packages\\\\win32', 'I:\\\\Anaconda3\\\\lib\\\\site-packages\\\\win32\\\\lib', 'I:\\\\Anaconda3\\\\lib\\\\site-packages\\\\Pythonwin', 'I:\\\\Anaconda3\\\\lib\\\\site-packages\\\\IPython\\\\extensions', 'C:\\\\Users\\\\qq122\\\\.ipython']\n"
     ]
    }
   ],
   "source": [
    "import sys\n",
    "print(sys.path)\n",
    "#显示python模块的搜索路径"
   ]
  },
  {
   "cell_type": "code",
   "execution_count": null,
   "metadata": {
    "collapsed": true
   },
   "outputs": [],
   "source": [
    "#可以使用下面的方法追加自己的路径\n",
    "sys.path.append('self path')\n",
    "#此方法是临时的 结束后 下次就会失效\n",
    "#设置环境变量 PYTHONPATH\n",
    "#只添加自己的路径即可 长期有效"
   ]
  },
  {
   "cell_type": "code",
   "execution_count": 2,
   "metadata": {},
   "outputs": [
    {
     "name": "stdout",
     "output_type": "stream",
     "text": [
      "JPEG (500, 313) RGB\n"
     ]
    }
   ],
   "source": [
    "from PIL import Image\n",
    "im = Image.open('cat.jpg')\n",
    "print(im.format , im.size , im.mode)"
   ]
  },
  {
   "cell_type": "code",
   "execution_count": 3,
   "metadata": {
    "collapsed": true
   },
   "outputs": [],
   "source": [
    "im.thumbnail((50,50))\n",
    "im.save('cat_modify.jpg' , 'jpeg')"
   ]
  },
  {
   "cell_type": "code",
   "execution_count": null,
   "metadata": {
    "collapsed": true
   },
   "outputs": [],
   "source": [
    "#上述为使用第三方库 做图片压缩 缩略图"
   ]
  }
 ],
 "metadata": {
  "kernelspec": {
   "display_name": "Python 3",
   "language": "python",
   "name": "python3"
  },
  "language_info": {
   "codemirror_mode": {
    "name": "ipython",
    "version": 3
   },
   "file_extension": ".py",
   "mimetype": "text/x-python",
   "name": "python",
   "nbconvert_exporter": "python",
   "pygments_lexer": "ipython3",
   "version": "3.6.2"
  }
 },
 "nbformat": 4,
 "nbformat_minor": 2
}
