{
 "cells": [
  {
   "cell_type": "code",
   "execution_count": 1,
   "metadata": {
    "collapsed": true
   },
   "outputs": [],
   "source": [
    "class run(object):\n",
    "    pass\n",
    "\n",
    "class fly(object):\n",
    "    pass\n",
    "\n",
    "class goose(run , fly):\n",
    "    pass\n",
    "\n",
    "#上面就是多继承\n",
    "#一般情况 不建议使用\n",
    "\n",
    "#上面的设计称为MixIn"
   ]
  },
  {
   "cell_type": "code",
   "execution_count": 4,
   "metadata": {},
   "outputs": [
    {
     "name": "stdout",
     "output_type": "stream",
     "text": [
      "student object (name:feifei)\n"
     ]
    },
    {
     "data": {
      "text/plain": [
       "<__main__.student at 0x2a053186da0>"
      ]
     },
     "execution_count": 4,
     "metadata": {},
     "output_type": "execute_result"
    }
   ],
   "source": [
    "class student(object):\n",
    "    def __init__(self , name):\n",
    "        self.name = name\n",
    "    \n",
    "    def __str__(self):\n",
    "        return 'student object (name:%s)' % self.name\n",
    "\n",
    "#类的对象会有默认的__str__\n",
    "#就可以使直接 打印出来的好看一些 也可以随便输出\n",
    "s = student('feifei')\n",
    "print(s)\n",
    "\n",
    "#直接敲变量不用print，打印出来的实例还是不好看\n",
    "'''\n",
    "这是因为直接显示变量调用的不是__str__()，而是__repr__()，\n",
    "两者的区别是__str__()返回用户看到的字符串，\n",
    "而__repr__()返回程序开发者看到的字符串，\n",
    "也就是说，__repr__()是为调试服务的。\n",
    "\n",
    "所以在类中可以增加__repr__方法\n",
    "\n",
    "也可以类似下面的方法书写 一种手段\n",
    "class student(object):\n",
    "    def __init__(self , name):\n",
    "        self.name = name\n",
    "    \n",
    "    def __str__(self):\n",
    "        return 'student object (name:%s)' % self.name\n",
    "    \n",
    "    __repr__ = __str__\n",
    "'''\n",
    "s"
   ]
  },
  {
   "cell_type": "code",
   "execution_count": 2,
   "metadata": {},
   "outputs": [
    {
     "name": "stdout",
     "output_type": "stream",
     "text": [
      "1\n",
      "1\n",
      "2\n",
      "3\n",
      "5\n",
      "8\n",
      "13\n",
      "21\n",
      "34\n"
     ]
    }
   ],
   "source": [
    "#迭代 __iter__() __next__()\n",
    "#类似 list和tuple一样 可以使用for in访问\n",
    "class fib(object):\n",
    "    def __init__(self):\n",
    "        self.a , self.b = 0 , 1\n",
    "    \n",
    "    def __iter__(self):\n",
    "        return self\n",
    "\n",
    "    def __next__(self):\n",
    "        self.a , self.b = self.b , self.a+self.b\n",
    "        \n",
    "        if self.a > 50:\n",
    "            raise StopIteration()\n",
    "        \n",
    "        return self.a\n",
    "\n",
    "for n in fib():\n",
    "    print(n)"
   ]
  },
  {
   "cell_type": "code",
   "execution_count": 3,
   "metadata": {},
   "outputs": [
    {
     "ename": "TypeError",
     "evalue": "'fib' object does not support indexing",
     "output_type": "error",
     "traceback": [
      "\u001b[1;31m---------------------------------------------------------------------------\u001b[0m",
      "\u001b[1;31mTypeError\u001b[0m                                 Traceback (most recent call last)",
      "\u001b[1;32m<ipython-input-3-dfb882ee9443>\u001b[0m in \u001b[0;36m<module>\u001b[1;34m()\u001b[0m\n\u001b[0;32m      1\u001b[0m \u001b[1;31m#上面的例子 fib像是一个for 但是还是不能使用index进行访问\u001b[0m\u001b[1;33m\u001b[0m\u001b[1;33m\u001b[0m\u001b[0m\n\u001b[1;32m----> 2\u001b[1;33m \u001b[0mfib\u001b[0m\u001b[1;33m(\u001b[0m\u001b[1;33m)\u001b[0m\u001b[1;33m[\u001b[0m\u001b[1;36m1\u001b[0m\u001b[1;33m]\u001b[0m\u001b[1;33m\u001b[0m\u001b[0m\n\u001b[0m",
      "\u001b[1;31mTypeError\u001b[0m: 'fib' object does not support indexing"
     ]
    }
   ],
   "source": [
    "#上面的例子 fib像是一个for 但是还是不能使用index进行访问\n",
    "fib()[1]"
   ]
  },
  {
   "cell_type": "code",
   "execution_count": 6,
   "metadata": {},
   "outputs": [
    {
     "data": {
      "text/plain": [
       "10946"
      ]
     },
     "execution_count": 6,
     "metadata": {},
     "output_type": "execute_result"
    }
   ],
   "source": [
    "#如果想使用index进行访问 需要__getitem__方法\n",
    "class fib2(object):\n",
    "    def __getitem__(self,n):\n",
    "        a ,b = 1 ,1\n",
    "        for x in range(n):\n",
    "            a , b = b , a+b\n",
    "        \n",
    "        return a\n",
    "\n",
    "f = fib2()\n",
    "f[1]#可以index访问了\n",
    "f[20]"
   ]
  },
  {
   "cell_type": "code",
   "execution_count": 7,
   "metadata": {},
   "outputs": [
    {
     "data": {
      "text/plain": [
       "[1, 2, 3]"
      ]
     },
     "execution_count": 7,
     "metadata": {},
     "output_type": "execute_result"
    }
   ],
   "source": [
    "#但是list可以切片访问 类似于下面\n",
    "list(range(10))[1:4]"
   ]
  },
  {
   "cell_type": "code",
   "execution_count": 10,
   "metadata": {
    "collapsed": true
   },
   "outputs": [],
   "source": [
    "#但是fib2不行 因为没有传入切片对象\n",
    "class fib3(object):\n",
    "    def __getitem__(self,n):\n",
    "        if isinstance(n , int):\n",
    "            a ,b = 1 ,1\n",
    "            for x in range(n):\n",
    "                a , b = b , a+b\n",
    "\n",
    "            return a\n",
    "        \n",
    "        if isinstance(n , slice):\n",
    "            start = n.start\n",
    "            stop = n.stop\n",
    "            \n",
    "            if start is None:\n",
    "                start = 0\n",
    "            a,b = 1,1\n",
    "            L = []\n",
    "            \n",
    "            for x in range(stop):\n",
    "                if x >= start:\n",
    "                    L.append(a)\n",
    "                \n",
    "                a , b = b , a+b\n",
    "            \n",
    "            return L"
   ]
  },
  {
   "cell_type": "code",
   "execution_count": 11,
   "metadata": {},
   "outputs": [
    {
     "data": {
      "text/plain": [
       "[1, 2, 3, 5]"
      ]
     },
     "execution_count": 11,
     "metadata": {},
     "output_type": "execute_result"
    }
   ],
   "source": [
    "f =fib3()\n",
    "f[1:5]"
   ]
  },
  {
   "cell_type": "code",
   "execution_count": 12,
   "metadata": {
    "collapsed": true
   },
   "outputs": [],
   "source": [
    "a=list(range(20))"
   ]
  },
  {
   "cell_type": "code",
   "execution_count": 18,
   "metadata": {},
   "outputs": [
    {
     "data": {
      "text/plain": [
       "[0, 2, 4, 6, 8, 10, 12, 14, 16, 18]"
      ]
     },
     "execution_count": 18,
     "metadata": {},
     "output_type": "execute_result"
    }
   ],
   "source": [
    "a[::2]#第三个数字为step 每step步 取出来数字"
   ]
  },
  {
   "cell_type": "code",
   "execution_count": 19,
   "metadata": {
    "collapsed": true
   },
   "outputs": [],
   "source": [
    "#类似的还有__setitem__() __delitem__() 方法"
   ]
  },
  {
   "cell_type": "code",
   "execution_count": 20,
   "metadata": {},
   "outputs": [
    {
     "name": "stdout",
     "output_type": "stream",
     "text": [
      "feifei\n"
     ]
    }
   ],
   "source": [
    "#__getattr__\n",
    "#正常情况下，当我们调用类的方法或属性时，如果不存在，就会报错\n",
    "class student(object):\n",
    "    def __init__(self):\n",
    "        self.name = 'feifei'\n",
    "\n",
    "s =student()\n",
    "print(s.name)"
   ]
  },
  {
   "cell_type": "code",
   "execution_count": 21,
   "metadata": {},
   "outputs": [
    {
     "ename": "AttributeError",
     "evalue": "'student' object has no attribute 'score'",
     "output_type": "error",
     "traceback": [
      "\u001b[1;31m---------------------------------------------------------------------------\u001b[0m",
      "\u001b[1;31mAttributeError\u001b[0m                            Traceback (most recent call last)",
      "\u001b[1;32m<ipython-input-21-c67afc77d4ec>\u001b[0m in \u001b[0;36m<module>\u001b[1;34m()\u001b[0m\n\u001b[1;32m----> 1\u001b[1;33m \u001b[0ms\u001b[0m\u001b[1;33m.\u001b[0m\u001b[0mscore\u001b[0m\u001b[1;33m\u001b[0m\u001b[0m\n\u001b[0m",
      "\u001b[1;31mAttributeError\u001b[0m: 'student' object has no attribute 'score'"
     ]
    }
   ],
   "source": [
    "s.score"
   ]
  },
  {
   "cell_type": "code",
   "execution_count": 25,
   "metadata": {},
   "outputs": [
    {
     "name": "stdout",
     "output_type": "stream",
     "text": [
      "feifei\n",
      "52\n",
      "22\n"
     ]
    },
    {
     "ename": "AttributeError",
     "evalue": "has no attribute test_error",
     "output_type": "error",
     "traceback": [
      "\u001b[1;31m---------------------------------------------------------------------------\u001b[0m",
      "\u001b[1;31mAttributeError\u001b[0m                            Traceback (most recent call last)",
      "\u001b[1;32m<ipython-input-25-ad4726b86357>\u001b[0m in \u001b[0;36m<module>\u001b[1;34m()\u001b[0m\n\u001b[0;32m     25\u001b[0m \u001b[0mprint\u001b[0m\u001b[1;33m(\u001b[0m\u001b[0ms\u001b[0m\u001b[1;33m.\u001b[0m\u001b[0mscore\u001b[0m\u001b[1;33m)\u001b[0m\u001b[1;33m\u001b[0m\u001b[0m\n\u001b[0;32m     26\u001b[0m \u001b[0mprint\u001b[0m\u001b[1;33m(\u001b[0m\u001b[0ms\u001b[0m\u001b[1;33m.\u001b[0m\u001b[0mage\u001b[0m\u001b[1;33m(\u001b[0m\u001b[1;33m)\u001b[0m\u001b[1;33m)\u001b[0m\u001b[1;33m\u001b[0m\u001b[0m\n\u001b[1;32m---> 27\u001b[1;33m \u001b[0ms\u001b[0m\u001b[1;33m.\u001b[0m\u001b[0mtest_error\u001b[0m\u001b[1;33m(\u001b[0m\u001b[1;33m)\u001b[0m\u001b[1;33m\u001b[0m\u001b[0m\n\u001b[0m",
      "\u001b[1;32m<ipython-input-25-ad4726b86357>\u001b[0m in \u001b[0;36m__getattr__\u001b[1;34m(self, attr)\u001b[0m\n\u001b[0;32m     19\u001b[0m         \u001b[1;31m#抛出AttributeError的错误\u001b[0m\u001b[1;33m\u001b[0m\u001b[1;33m\u001b[0m\u001b[0m\n\u001b[0;32m     20\u001b[0m \u001b[1;33m\u001b[0m\u001b[0m\n\u001b[1;32m---> 21\u001b[1;33m         \u001b[1;32mraise\u001b[0m \u001b[0mAttributeError\u001b[0m\u001b[1;33m(\u001b[0m\u001b[1;34m'has no attribute %s'\u001b[0m \u001b[1;33m%\u001b[0m \u001b[0mattr\u001b[0m\u001b[1;33m)\u001b[0m\u001b[1;33m\u001b[0m\u001b[0m\n\u001b[0m\u001b[0;32m     22\u001b[0m \u001b[1;33m\u001b[0m\u001b[0m\n\u001b[0;32m     23\u001b[0m \u001b[0ms\u001b[0m \u001b[1;33m=\u001b[0m \u001b[0mstudent2\u001b[0m\u001b[1;33m(\u001b[0m\u001b[1;33m)\u001b[0m\u001b[1;33m\u001b[0m\u001b[0m\n",
      "\u001b[1;31mAttributeError\u001b[0m: has no attribute test_error"
     ]
    }
   ],
   "source": [
    "#上面因为没有score属性\n",
    "#要避免这个错误，除了可以加上一个score属性外，Python还有另一个机制，\n",
    "#那就是写一个__getattr__()方法，动态返回一个属性\n",
    "#当调用不存在的属性时，比如score，\n",
    "#Python解释器会试图调用__getattr__(self, 'score')来尝试获得属性\n",
    "class student2(object):\n",
    "    def __init__(self):\n",
    "        self.name = 'feifei'\n",
    "    \n",
    "    def __getattr__(self , attr):\n",
    "        if attr == 'score':\n",
    "            return 52\n",
    "        #都可以返回一个函数\n",
    "        if attr == 'age':\n",
    "            return lambda :22\n",
    "        #注意到任意调用如s.abc都会返回None，\n",
    "        #这是因为我们定义的__getattr__默认返回就是None。\n",
    "        #要让class只响应特定的几个属性，我们就要按照约定，\n",
    "        #抛出AttributeError的错误\n",
    "        \n",
    "        raise AttributeError('has no attribute %s' % attr)\n",
    "\n",
    "s = student2()\n",
    "print(s.name)\n",
    "print(s.score)\n",
    "print(s.age())\n",
    "s.test_error()"
   ]
  },
  {
   "cell_type": "code",
   "execution_count": 26,
   "metadata": {},
   "outputs": [
    {
     "name": "stdout",
     "output_type": "stream",
     "text": [
      "my name is feifei\n"
     ]
    }
   ],
   "source": [
    "#一个对象实例可以有自己的属性和方法，\n",
    "#当我们调用实例方法时，我们用instance.method()来调用\n",
    "#下面是直接在实例本身上调用\n",
    "\n",
    "class student3(object):\n",
    "    def __init__(self , name):\n",
    "        self.name = name\n",
    "    \n",
    "    def __call__(self):\n",
    "        print('my name is %s' % self.name)\n",
    "\n",
    "s = student3('feifei')\n",
    "s()"
   ]
  },
  {
   "cell_type": "code",
   "execution_count": 27,
   "metadata": {},
   "outputs": [
    {
     "data": {
      "text/plain": [
       "False"
      ]
     },
     "execution_count": 27,
     "metadata": {},
     "output_type": "execute_result"
    }
   ],
   "source": [
    "#可以将函数看成对象 对象看成函数\n",
    "#如何判断一个变量是对象还是函数 ？\n",
    "#更多的时候，我们需要判断一个对象是否能被调用，\n",
    "#能被调用的对象就是一个Callable对象，\n",
    "#比如函数和我们上面定义的带有__call__()的类实例：\n",
    "callable(student2())"
   ]
  },
  {
   "cell_type": "code",
   "execution_count": 35,
   "metadata": {},
   "outputs": [
    {
     "data": {
      "text/plain": [
       "True"
      ]
     },
     "execution_count": 35,
     "metadata": {},
     "output_type": "execute_result"
    }
   ],
   "source": [
    "callable(student3)"
   ]
  },
  {
   "cell_type": "code",
   "execution_count": 30,
   "metadata": {},
   "outputs": [
    {
     "data": {
      "text/plain": [
       "False"
      ]
     },
     "execution_count": 30,
     "metadata": {},
     "output_type": "execute_result"
    }
   ],
   "source": [
    "callable('str')"
   ]
  },
  {
   "cell_type": "code",
   "execution_count": 33,
   "metadata": {},
   "outputs": [
    {
     "data": {
      "text/plain": [
       "True"
      ]
     },
     "execution_count": 33,
     "metadata": {},
     "output_type": "execute_result"
    }
   ],
   "source": [
    "callable(max)"
   ]
  },
  {
   "cell_type": "code",
   "execution_count": null,
   "metadata": {
    "collapsed": true
   },
   "outputs": [],
   "source": []
  }
 ],
 "metadata": {
  "kernelspec": {
   "display_name": "Python 3",
   "language": "python",
   "name": "python3"
  },
  "language_info": {
   "codemirror_mode": {
    "name": "ipython",
    "version": 3
   },
   "file_extension": ".py",
   "mimetype": "text/x-python",
   "name": "python",
   "nbconvert_exporter": "python",
   "pygments_lexer": "ipython3",
   "version": "3.6.2"
  }
 },
 "nbformat": 4,
 "nbformat_minor": 2
}
