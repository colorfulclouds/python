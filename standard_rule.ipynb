{
 "cells": [
  {
   "cell_type": "code",
   "execution_count": null,
   "metadata": {
    "collapsed": true
   },
   "outputs": [],
   "source": [
    "#变量大写 下划线\n",
    "USER_NAME='fei'\n",
    "\n",
    "#私有变量 小写 前导下划线\n",
    "#还是可以访问的 只是一种警告\n",
    "_private_name\n",
    "\n",
    "#内置变量 小写 两个前导下划线 两个后导下划线\n",
    "#两个前导下划线会导致 变量在解释期间被更名 应该避免使用\n",
    "__class__\n"
   ]
  },
  {
   "cell_type": "code",
   "execution_count": null,
   "metadata": {
    "collapsed": true
   },
   "outputs": [],
   "source": [
    "#普通函数\n",
    "def function():\n",
    "    pass\n",
    "\n",
    "#私有方法\n",
    "def _private_function():\n",
    "    pass\n",
    "\n",
    "#函数名有两个前导下划线 也是会遇见 解释期间的更名 应该避免使用两个前导下划线的函数名\n",
    "\n",
    "#特殊函数\n",
    "def __function__():\n",
    "    pass\n",
    "\n",
    "\n",
    "#函数参数 缺省的值等号两边没有空格\n",
    "def function(name , age=16):\n",
    "    pass\n",
    "\n"
   ]
  },
  {
   "cell_type": "code",
   "execution_count": null,
   "metadata": {
    "collapsed": true
   },
   "outputs": [],
   "source": [
    "#类 驼峰命名法\n",
    "SQLEngine\n",
    "MimeTypes\n",
    "\n",
    "#基类或者抽象类\n",
    "#使用一些特定的前缀\n",
    "BaseCookie\n",
    "AbstractGroup"
   ]
  },
  {
   "cell_type": "code",
   "execution_count": null,
   "metadata": {
    "collapsed": true
   },
   "outputs": [],
   "source": [
    "#特殊模块 __init__\n",
    "#__init__.py\n",
    "#模块名称都不使用带有下划线的小写字母\n",
    "#协议或者库 都是lib作为后缀\n",
    "#例如\n",
    "#import smtplib\n",
    "#import os\n",
    "#import sys"
   ]
  },
  {
   "cell_type": "code",
   "execution_count": null,
   "metadata": {
    "collapsed": true
   },
   "outputs": [],
   "source": [
    "#不要使用断言 来实现静态类型检测\n",
    "#python是动态类型语言\n",
    "#静态检查违背了其设计思想\n",
    "\n",
    "#不要滥用*args **kwargs\n",
    "#会破坏健壮性"
   ]
  },
  {
   "cell_type": "code",
   "execution_count": null,
   "metadata": {
    "collapsed": true
   },
   "outputs": [],
   "source": [
    "#使用has或is前缀命名布尔变量\n",
    "is_ok\n",
    "is_vip\n",
    "has_next\n",
    "has_people\n",
    "\n",
    "#单词的复数形式命名序列 或多元素的 那种变量\n",
    "students=['fei' , 'wang']\n",
    "\n",
    "#显式名称命名字典\n",
    "person_address = {'fei':'xian' , 'wang':'beijing'}\n",
    "\n",
    "#避免使用一些通用名称 和 系统中有的\n",
    "list dict sequence\n",
    "os sys lib\n"
   ]
  },
  {
   "cell_type": "code",
   "execution_count": null,
   "metadata": {
    "collapsed": true
   },
   "outputs": [],
   "source": [
    "#一行最好不超过79\n",
    "#函数不超过30行\n",
    "#类不超过 200行 不超过10个函数\n",
    "#一个module 已超过500行"
   ]
  },
  {
   "cell_type": "code",
   "execution_count": null,
   "metadata": {
    "collapsed": true
   },
   "outputs": [],
   "source": [
    "#可以使用 验证脚本 验证自己的代码是否符合pep8\n",
    "$pep8 -r --ignore E501 your.py\n",
    "#上述命令 重复打出错误 忽略501错误（代码超过79行错误）\n",
    "#http://pypi.python.org/pypi/pep8/#downloads\n",
    "#下载地址"
   ]
  }
 ],
 "metadata": {
  "kernelspec": {
   "display_name": "Python 3",
   "language": "python",
   "name": "python3"
  },
  "language_info": {
   "codemirror_mode": {
    "name": "ipython",
    "version": 3
   },
   "file_extension": ".py",
   "mimetype": "text/x-python",
   "name": "python",
   "nbconvert_exporter": "python",
   "pygments_lexer": "ipython3",
   "version": "3.6.1"
  }
 },
 "nbformat": 4,
 "nbformat_minor": 2
}
